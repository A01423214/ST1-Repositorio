{
  "nbformat": 4,
  "nbformat_minor": 0,
  "metadata": {
    "colab": {
      "name": "K-means_example1.ipynb",
      "provenance": [],
      "collapsed_sections": []
    },
    "kernelspec": {
      "name": "python3",
      "display_name": "Python 3"
    },
    "language_info": {
      "name": "python"
    }
  },
  "cells": [
    {
      "cell_type": "markdown",
      "metadata": {
        "id": "DT9e6XmDIDPv"
      },
      "source": [
        "# **K-means Ejercicio Dr. Atoany**"
      ]
    },
    {
      "cell_type": "markdown",
      "metadata": {
        "id": "DceYfejFIIVs"
      },
      "source": [
        "https://towardsdatascience.com/k-means-clustering-with-scikit-learn-6b47a369a83c"
      ]
    },
    {
      "cell_type": "markdown",
      "metadata": {
        "id": "EPERX7mkIr4Q"
      },
      "source": [
        "**Dataset**"
      ]
    },
    {
      "cell_type": "code",
      "metadata": {
        "id": "D53zCc_JH8a2"
      },
      "source": [
        "import matplotlib.pyplot as plt\n",
        "from sklearn.datasets import make_blobs\n",
        "\n",
        "import pandas as pd\n",
        "datos_mall = pd.read_csv(\"Mall_Customers.csv\")\n",
        "\n",
        "ID = datos_mall['CustomerID']\n",
        "Gender = datos_mall['Gender']\n",
        "Age = datos_mall['Age']\n",
        "Income = datos_mall['Annual Income (k$)']\n",
        "Spend = datos_mall['Spending Score (1-100)']\n"
      ],
      "execution_count": 3,
      "outputs": []
    },
    {
      "cell_type": "markdown",
      "metadata": {
        "id": "GcVg2kyRIutB"
      },
      "source": [
        "**K-means**"
      ]
    },
    {
      "cell_type": "code",
      "metadata": {
        "id": "k4P9J14IINui"
      },
      "source": [
        "from sklearn.cluster import KMeans"
      ],
      "execution_count": 5,
      "outputs": []
    },
    {
      "cell_type": "markdown",
      "metadata": {
        "id": "r7uXWrLUI0Wx"
      },
      "source": [
        "**Visualization**"
      ]
    },
    {
      "cell_type": "code",
      "source": [
        "plt.scatter(\n",
        "    Income, Spend,\n",
        "    s=50, c='lightgreen',\n",
        "    marker='s', edgecolor='black',\n",
        "    label='cluster 1'\n",
        ")\n",
        "\n",
        "\n",
        "from sklearn.cluster import KMeans\n",
        "\n",
        "km = KMeans(\n",
        "    n_clusters=3, init='random',\n",
        "    n_init=10, max_iter=300, \n",
        "    tol=1e-04, random_state=0\n",
        ")"
      ],
      "metadata": {
        "colab": {
          "base_uri": "https://localhost:8080/",
          "height": 265
        },
        "id": "Z7GhANN7wx1l",
        "outputId": "88a88771-8428-4237-a586-1f78f507907d"
      },
      "execution_count": 6,
      "outputs": [
        {
          "output_type": "display_data",
          "data": {
            "text/plain": [
              "<Figure size 432x288 with 1 Axes>"
            ],
            "image/png": "[encoded data removed]"
          },
          "metadata": {
            "needs_background": "light"
          }
        }
      ]
    },
    {
      "cell_type": "code",
      "metadata": {
        "id": "Mb2xp_nzI-Qx"
      },
      "source": [
        ""
      ],
      "execution_count": null,
      "outputs": []
    }
  ]
}