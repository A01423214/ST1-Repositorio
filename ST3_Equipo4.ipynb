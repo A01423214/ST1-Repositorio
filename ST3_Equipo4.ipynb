{
  "nbformat": 4,
  "nbformat_minor": 0,
  "metadata": {
    "colab": {
      "name": "ST3_Equipo4.ipynb",
      "provenance": [],
      "collapsed_sections": []
    },
    "kernelspec": {
      "name": "python3",
      "display_name": "Python 3"
    },
    "language_info": {
      "name": "python"
    }
  },
  "cells": [
    {
      "cell_type": "markdown",
      "source": [
        "## **ST3: Mapas de calor y boxplots**\n"
      ],
      "metadata": {
        "id": "7FQeoJEOqlXc"
      }
    },
    {
      "cell_type": "markdown",
      "source": [
        "### **Parte 1: Selección, limpieza y preparación de los Datos en Python**"
      ],
      "metadata": {
        "id": "vt2pZUUHM3tC"
      }
    },
    {
      "cell_type": "code",
      "source": [
        "import pandas as pd"
      ],
      "metadata": {
        "id": "ZWY7Mxr7qw4g"
      },
      "execution_count": null,
      "outputs": []
    },
    {
      "cell_type": "markdown",
      "source": [
        "**Selección de datos**"
      ],
      "metadata": {
        "id": "CATLn48x1HEW"
      }
    },
    {
      "cell_type": "code",
      "source": [
        "datos_spoti = pd.read_csv(\"songs_normalize.csv\") # campos: artist, song, duration_ms, explicit, year, popularity, danceability, energy, key, loudness, mode, speechiness,acousticness, instrumentaliness, liveness, valence, tempo, genre"
      ],
      "metadata": {
        "id": "CkqPB8zXrs7Q"
      },
      "execution_count": null,
      "outputs": []
    },
    {
      "cell_type": "code",
      "source": [
        "from google.colab import drive\n",
        "drive.mount('/content/drive')"
      ],
      "metadata": {
        "colab": {
          "base_uri": "https://localhost:8080/"
        },
        "id": "3ZJ_47srfKxu",
        "outputId": "58f39d95-331d-4bfe-b89f-eb635ac43c42"
      },
      "execution_count": 11,
      "outputs": [
        {
          "output_type": "stream",
          "name": "stdout",
          "text": [
            "Mounted at /content/drive\n"
          ]
        }
      ]
    },
    {
      "cell_type": "markdown",
      "source": [
        "**Selección de los datos**\n",
        "\n",
        "Utilizaremos únicamente los siguientes datos en nuestro análisis\n",
        "*   Artist\n",
        "*   Song\n",
        "*   Year\n",
        "*   Popularity\n",
        "*   Genre"
      ],
      "metadata": {
        "id": "0GGO8wcStAnp"
      }
    },
    {
      "cell_type": "code",
      "source": [
        "artist = datos_spoti['artist']\n",
        "song = datos_spoti['song']\n",
        "year = datos_spoti['year']\n",
        "popularity = datos_spoti['popularity']\n",
        "genre = datos_spoti['genre']\n",
        "energy  = datos_spoti['energy']\n",
        "dance  = datos_spoti['danceability']\n",
        "\n",
        "spoti = {\n",
        "    \"artist\": artist,\n",
        "    \"song\": song,\n",
        "    \"year\": year,\n",
        "    \"popularity\": popularity,\n",
        "    \"genre\": genre,\n",
        "    \"energy\": energy,\n",
        "    \"dance\": dance\n",
        "}\n",
        "spoti = pd.DataFrame(spoti)\n",
        "spoti\n",
        "\n",
        "spotinum = {\n",
        "    \"popularity\": popularity,\n",
        "    \"energy\": energy,\n",
        "    \"dance\": dance\n",
        "}\n",
        "spotinum = pd.DataFrame(spotinum)\n",
        "\n",
        "ed = {\n",
        "    \"energy\": energy,\n",
        "    \"dance\": dance\n",
        "}\n",
        "ed = pd.DataFrame(ed)\n",
        "\n"
      ],
      "metadata": {
        "id": "DV4RVBGCs20d"
      },
      "execution_count": 12,
      "outputs": []
    },
    {
      "cell_type": "markdown",
      "source": [
        "**Limpieza de los datos**"
      ],
      "metadata": {
        "id": "jwgqRiC82ubn"
      }
    },
    {
      "cell_type": "code",
      "source": [
        "spoti.isnull().values.any() #Si imprime \"false\" es porque todos los valores son válidos\n",
        "\n",
        "dataset = spoti.dropna() # creamos un nuevo dataframe descartando los valores nulos o vacíos de nuestro dataframe datos_seleccionados\n",
        "\n",
        "dataset.isnull().sum() # validamos que no tenemos valores nulos en ninguna columna, todos deben dar cero\n",
        "\n",
        "# Como da 0 en cada columna, podemos avanzar."
      ],
      "metadata": {
        "id": "TCrsLvlj2Vp0",
        "colab": {
          "base_uri": "https://localhost:8080/"
        },
        "outputId": "33f965e5-2d91-4240-a005-bac8a4e88da2"
      },
      "execution_count": 13,
      "outputs": [
        {
          "output_type": "execute_result",
          "data": {
            "text/plain": [
              "artist        0\n",
              "song          0\n",
              "year          0\n",
              "popularity    0\n",
              "genre         0\n",
              "energy        0\n",
              "dance         0\n",
              "dtype: int64"
            ]
          },
          "metadata": {},
          "execution_count": 13
        }
      ]
    },
    {
      "cell_type": "markdown",
      "source": [
        "**Preparación de datos**"
      ],
      "metadata": {
        "id": "29xtWwP97jjh"
      }
    },
    {
      "cell_type": "code",
      "source": [
        "dataset.columns\n",
        "x = dataset[['year']].values\n",
        "y = dataset['dance'].values"
      ],
      "metadata": {
        "id": "c_tYKKdh3vv6"
      },
      "execution_count": 15,
      "outputs": []
    },
    {
      "cell_type": "code",
      "source": [
        "x1 = dataset['dance']\n",
        "y1 = dataset[['energy']]\n"
      ],
      "metadata": {
        "id": "H57PnJsG5iO7"
      },
      "execution_count": 16,
      "outputs": []
    },
    {
      "cell_type": "code",
      "source": [
        "x2 = dataset['genre']\n",
        "y2 = dataset[['popularity']]"
      ],
      "metadata": {
        "id": "Jp1ks-CTN9kN"
      },
      "execution_count": 17,
      "outputs": []
    },
    {
      "cell_type": "code",
      "source": [
        "from sklearn.model_selection import train_test_split # importamos la herramienta para dividir los datos de SciKit-Learn\n",
        "\n",
        "X_train, X_test, y_train, y_test = train_test_split(x, y, test_size=0.2, random_state=0) # asignación de los datos 80% para entrenamiento y 20% para prueba"
      ],
      "metadata": {
        "id": "ZxMmYBzT7ne7"
      },
      "execution_count": 18,
      "outputs": []
    },
    {
      "cell_type": "markdown",
      "source": [
        "### **Parte 2: Preparación de los datos**\n",
        "\n"
      ],
      "metadata": {
        "id": "duvGYa_rrR_M"
      }
    },
    {
      "cell_type": "markdown",
      "source": [
        "1.   **¿Qué datos hay que seleccionar? Por qué.**\n",
        "\n",
        "Los datos que debemos seleccionar son aquellos que son relevantes para un análisis específico y dependen del objetivo del proyecto. En este caso, seleccionamos el nombre del artista o grupo, año de publicación de la canción, nombre de la canción, índice de popularidad máximo, índice de *bailabilidad*, índice de energía y género musical, debido a que son los datos que mejor nos servirán para analizar una coorelación entre sí."
      ],
      "metadata": {
        "id": "O97d86ls9JMe"
      }
    },
    {
      "cell_type": "markdown",
      "source": [
        "2.   **¿Hay que eliminar o reemplazar valores en blanco? Sí / No / Por qué.**\n",
        "\n",
        "Si se da el caso que en la base de datos hay valores en blanco, es necesario eliminarlos o reemplazarlos para que el programa que analiza los datos no marque error, además de tener un análisis más preciso.\n",
        "En nuestro caso, la base de datos no tenía valores en blanco, por lo que no fu necesario reemplazar o eliminar algo.\n"
      ],
      "metadata": {
        "id": "TRa8hwnF9Ppp"
      }
    },
    {
      "cell_type": "markdown",
      "source": [
        "3.   **¿Es posible agregar más datos? Sí / No / Por qué.**\n",
        "\n",
        "Sí se podrían agregar más datos. De las 18 columnas que vienen en nuestra base de datos, solamente estamos ocupando 7, por lo que podríamos agregar otras columnas para obtener un análisis con más datos.\n",
        "Si quisiéramos agregar más datos de otra base de datos, primero tendríamos que seleccionarlos, limpiarlos y prepararlos para que se puedan analizar sin que causen algún tipo de error."
      ],
      "metadata": {
        "id": "B1ROo9Ii9Sqs"
      }
    },
    {
      "cell_type": "markdown",
      "source": [
        "4.   **¿Hay qué integrar o fusionar datos de varias fuentes? Sí / No / Por qué.**\n",
        "\n",
        "En este caso, la fusión de los datos entre distintas fuentes no fue necesaria, debido a que nuestra única fuente fue suficiente para este análisis específico. \n",
        "\n",
        "Sin embargo; si deseáramos actualizar nuestros datos para incluir aquellos generados posteriormente al 2019, deberíamos fusionar la fuente que tenemos junto con una más reciente."
      ],
      "metadata": {
        "id": "G1WaAfql9T97"
      }
    },
    {
      "cell_type": "markdown",
      "source": [
        "5.   **¿Es necesario ordenar los datos para el análisis? Sí / No / Por qué.**\n",
        "\n",
        "Dependerá del caso, pero en su mayoría, **sí** es necesario.\n",
        "\n",
        "En nuestro caso específico, no es relevante el orden *(por ejemplo, alfabético)* de los nombres de las canciones o artistas en nuestra base de datos, sin embargo, sí puede ser muy útil ordenar los años de publicación de las canciones para para crear un plot de la cronología de la coorelación entre los años y qué tan populares eran ciertos géneros de música, por ejemplo."
      ],
      "metadata": {
        "id": "tgZmoRLe9Vks"
      }
    },
    {
      "cell_type": "markdown",
      "source": [
        "6.   **¿Tengo que hacer conjuntos de datos para entrenamiento y prueba? Sí / No / Por qué.**\n",
        "\n",
        "Claro. Estos conjuntos de datos son esenciales para poder desarrollar análisis de datos limpios y con bases selectivas para un proyecto con información clara y específica. Si los conjuntos de datos fueran totales y no se seleccionara la información relevante, cada proyecto de análisis sería demasiado grande y confuso como para sacar conclusiones trascendentes."
      ],
      "metadata": {
        "id": "NYBd1XAT9W-X"
      }
    },
    {
      "cell_type": "markdown",
      "source": [
        "7.   **¿Qué ajustes se tuvieron que hacer a los datos (agregar, integrar, modificar registros (filas), cambiar atributos (columnas)?**"
      ],
      "metadata": {
        "id": "eRGile2F9Yzo"
      }
    },
    {
      "cell_type": "markdown",
      "source": [
        "###**Parte 3: Continuando con el análisis de variables**"
      ],
      "metadata": {
        "id": "cxork2cVNUzY"
      }
    },
    {
      "cell_type": "code",
      "source": [
        "import numpy as np\n",
        "import matplotlib.pyplot as plt\n",
        "import seaborn as sns"
      ],
      "metadata": {
        "id": "gxIYNMVCD_yv"
      },
      "execution_count": 19,
      "outputs": []
    },
    {
      "cell_type": "markdown",
      "source": [
        "### **Diagarama de dispersión**"
      ],
      "metadata": {
        "id": "Pe-OVHRfDGw-"
      }
    },
    {
      "cell_type": "code",
      "source": [
        "plt.scatter(x,y)\n",
        "plt.xlabel('Año')\n",
        "plt.ylabel('Bailabilidad')"
      ],
      "metadata": {
        "colab": {
          "base_uri": "https://localhost:8080/",
          "height": 297
        },
        "id": "ZDXQf9kNDF7G",
        "outputId": "1ea48d82-e8fa-414b-a243-c48859fd87b7"
      },
      "execution_count": 20,
      "outputs": [
        {
          "output_type": "execute_result",
          "data": {
            "text/plain": [
              "Text(0, 0.5, 'Bailabilidad')"
            ]
          },
          "metadata": {},
          "execution_count": 20
        },
        {
          "output_type": "display_data",
          "data": {
            "text/plain": [
              "<Figure size 432x288 with 1 Axes>"
            ],
            "image/png": "[encoded data removed]"
          },
          "metadata": {
            "needs_background": "light"
          }
        }
      ]
    },
    {
      "cell_type": "code",
      "source": [
        "plt.scatter(x1,y1)\n",
        "plt.xlabel('Bailabilidad')\n",
        "plt.ylabel('Energía')"
      ],
      "metadata": {
        "id": "9KICs8F3EJvd",
        "outputId": "4fdaccb4-2b64-4817-c231-2c6a6c34b4f6",
        "colab": {
          "base_uri": "https://localhost:8080/",
          "height": 297
        }
      },
      "execution_count": 21,
      "outputs": [
        {
          "output_type": "execute_result",
          "data": {
            "text/plain": [
              "Text(0, 0.5, 'Energía')"
            ]
          },
          "metadata": {},
          "execution_count": 21
        },
        {
          "output_type": "display_data",
          "data": {
            "text/plain": [
              "<Figure size 432x288 with 1 Axes>"
            ],
            "image/png": "[encoded data removed]"
          },
          "metadata": {
            "needs_background": "light"
          }
        }
      ]
    },
    {
      "cell_type": "code",
      "source": [
        "plt.scatter(x2,y2)\n",
        "plt.xlabel('Género')\n",
        "plt.ylabel('Popularidad')\n",
        "\n",
        "#plt.xticks(rotation=90)"
      ],
      "metadata": {
        "colab": {
          "base_uri": "https://localhost:8080/",
          "height": 297
        },
        "id": "y_mcerT3Oo0S",
        "outputId": "a714c0e4-f616-4672-918b-203d04b064d0"
      },
      "execution_count": 22,
      "outputs": [
        {
          "output_type": "execute_result",
          "data": {
            "text/plain": [
              "Text(0, 0.5, 'Popularidad')"
            ]
          },
          "metadata": {},
          "execution_count": 22
        },
        {
          "output_type": "display_data",
          "data": {
            "text/plain": [
              "<Figure size 432x288 with 1 Axes>"
            ],
            "image/png": "[encoded data removed]"
          },
          "metadata": {
            "needs_background": "light"
          }
        }
      ]
    },
    {
      "cell_type": "markdown",
      "source": [
        "### **Histogramas**\n",
        "\n",
        "\n",
        "1.   Popularidad de las canciones\n",
        "\n"
      ],
      "metadata": {
        "id": "QnPXYTk79j1B"
      }
    },
    {
      "cell_type": "code",
      "source": [
        "fig,ax = plt.subplots(figsize = (6,3))\n",
        "\n",
        "ax.hist(y, ec = 'white')\n",
        "ax.hist(x, ec = 'black')\n",
        "plt.xlabel('Año')\n",
        "plt.ylabel('Danceabilidad')\n",
        "plt.show()"
      ],
      "metadata": {
        "id": "Mv-25bU2-kUT",
        "outputId": "34ddb3bf-8957-49d0-f7eb-8e3574685900",
        "colab": {
          "base_uri": "https://localhost:8080/",
          "height": 225
        }
      },
      "execution_count": 23,
      "outputs": [
        {
          "output_type": "display_data",
          "data": {
            "text/plain": [
              "<Figure size 432x216 with 1 Axes>"
            ],
            "image/png": "[encoded data removed]"
          },
          "metadata": {
            "needs_background": "light"
          }
        }
      ]
    },
    {
      "cell_type": "markdown",
      "source": [
        "2.   Energía y bailabilidad de las canciones\n"
      ],
      "metadata": {
        "id": "Ajs4pjrZ__oL"
      }
    },
    {
      "cell_type": "code",
      "source": [
        "fig,ax = plt.subplots(figsize = (6,3))\n",
        "\n",
        "ax.hist(y1, ec = 'pink')\n",
        "plt.xlabel('Genre')\n",
        "plt.ylabel('Energía y baileabilidad')\n",
        "plt.show()"
      ],
      "metadata": {
        "id": "I1_8rK2qAQJQ",
        "colab": {
          "base_uri": "https://localhost:8080/",
          "height": 225
        },
        "outputId": "3b241669-4297-4d4f-b8e1-e8b50a244b8f"
      },
      "execution_count": 24,
      "outputs": [
        {
          "output_type": "display_data",
          "data": {
            "text/plain": [
              "<Figure size 432x216 with 1 Axes>"
            ],
            "image/png": "[encoded data removed]"
          },
          "metadata": {
            "needs_background": "light"
          }
        }
      ]
    },
    {
      "cell_type": "markdown",
      "source": [
        "### **Boxplot**"
      ],
      "metadata": {
        "id": "fBZqh-RoFG3K"
      }
    },
    {
      "cell_type": "code",
      "source": [
        "boxplot1 = dataset.boxplot(column = ['dance'])\n",
        "boxplot1.plot()\n",
        "plt.show()"
      ],
      "metadata": {
        "colab": {
          "base_uri": "https://localhost:8080/",
          "height": 265
        },
        "id": "SL4qQnnOFH4i",
        "outputId": "bc1d7fdf-2556-4f26-d79c-0d58dc161f22"
      },
      "execution_count": 25,
      "outputs": [
        {
          "output_type": "display_data",
          "data": {
            "text/plain": [
              "<Figure size 432x288 with 1 Axes>"
            ],
            "image/png": "[encoded data removed]"
          },
          "metadata": {
            "needs_background": "light"
          }
        }
      ]
    },
    {
      "cell_type": "code",
      "source": [
        "boxplot2 = dataset.boxplot(column = ['energy'])\n",
        "boxplot2.plot()\n",
        "plt.show()"
      ],
      "metadata": {
        "colab": {
          "base_uri": "https://localhost:8080/",
          "height": 265
        },
        "id": "cFkWh5eXGiKK",
        "outputId": "103c7eaf-e2ac-4920-957b-2702adb14a9a"
      },
      "execution_count": 26,
      "outputs": [
        {
          "output_type": "display_data",
          "data": {
            "text/plain": [
              "<Figure size 432x288 with 1 Axes>"
            ],
            "image/png": "[encoded data removed]"
          },
          "metadata": {
            "needs_background": "light"
          }
        }
      ]
    },
    {
      "cell_type": "code",
      "source": [
        "boxplot3 = dataset.boxplot(column = ['dance'])\n",
        "boxplot3.plot()\n",
        "plt.show()"
      ],
      "metadata": {
        "id": "Zqbn9mQcGtIo",
        "colab": {
          "base_uri": "https://localhost:8080/",
          "height": 265
        },
        "outputId": "be45db12-00e2-4661-ff69-b2e04f8c1713"
      },
      "execution_count": 27,
      "outputs": [
        {
          "output_type": "display_data",
          "data": {
            "text/plain": [
              "<Figure size 432x288 with 1 Axes>"
            ],
            "image/png": "[encoded data removed]"
          },
          "metadata": {
            "needs_background": "light"
          }
        }
      ]
    },
    {
      "cell_type": "markdown",
      "source": [
        "### **Mapa de calor**"
      ],
      "metadata": {
        "id": "g3aji1FGIQa1"
      }
    },
    {
      "cell_type": "code",
      "source": [
        "sns.heatmap(spotinum[['popularity']])"
      ],
      "metadata": {
        "colab": {
          "base_uri": "https://localhost:8080/",
          "height": 288
        },
        "id": "uG49NCduIcBM",
        "outputId": "cf6e5a86-549d-490a-8a22-77149caeea75"
      },
      "execution_count": 28,
      "outputs": [
        {
          "output_type": "execute_result",
          "data": {
            "text/plain": [
              "<matplotlib.axes._subplots.AxesSubplot at 0x7f1e5ab47f50>"
            ]
          },
          "metadata": {},
          "execution_count": 28
        },
        {
          "output_type": "display_data",
          "data": {
            "text/plain": [
              "<Figure size 432x288 with 2 Axes>"
            ],
            "image/png": "[encoded data removed]"
          },
          "metadata": {
            "needs_background": "light"
          }
        }
      ]
    },
    {
      "cell_type": "code",
      "source": [
        "sns.heatmap(ed)"
      ],
      "metadata": {
        "colab": {
          "base_uri": "https://localhost:8080/",
          "height": 288
        },
        "id": "0-XEqBsuQe3H",
        "outputId": "54412a01-634a-4ddf-a897-b78cb9ae67e1"
      },
      "execution_count": 29,
      "outputs": [
        {
          "output_type": "execute_result",
          "data": {
            "text/plain": [
              "<matplotlib.axes._subplots.AxesSubplot at 0x7f1e5ab71c90>"
            ]
          },
          "metadata": {},
          "execution_count": 29
        },
        {
          "output_type": "display_data",
          "data": {
            "text/plain": [
              "<Figure size 432x288 with 2 Axes>"
            ],
            "image/png": "[encoded data removed]"
          },
          "metadata": {
            "needs_background": "light"
          }
        }
      ]
    },
    {
      "cell_type": "markdown",
      "source": [
        "### **Preguntas acerca de análisis de variables**"
      ],
      "metadata": {
        "id": "EeTQYPQjREEw"
      }
    },
    {
      "cell_type": "markdown",
      "source": [
        "**¿Hay alguna variable que no aporta información?**\n",
        "Creo que la variable con el nombre de la canción (*song*) pudimos no incluirla y no afectaría al análisis. Si lo pensamos, los nombres de las canciones no se van a repetir, lo que significa que tendríamos 2000 datos diferentes y no creo que sirva mucho analizarlo.\n",
        "\n",
        "\n",
        "**Si tuvieras que eliminar variables, ¿Cuáles quitarías y por qué?**\n",
        "En este proyecto en específico, hubiera sido posible eliminar la variable de *song* que da el nombre de la canción que se analiza. Esta variable no es necesaria para ninguna de nuestras comparaciones ni tablas, y aunque podría resultar importante para distinguir un dato en específico, no llega a utilizarse en este proyecto de análisis.\n",
        "\n",
        "\n",
        "**¿Existen variables que tengan datos extraños?**\n",
        "Todas las variables tienen elementos predecibles, excepto por una: **género**. En esta variable, podemos encontrar datos como “pop”, “rock” y “punk”, pero igualmente algunos ejemplos de géneros combinados, incluyendo “pop, rock”, “electrónica, pop” y “rock, punk”, que hicieron mucho más complicado el análisis en el que comparábamos esta variable con otras.\n",
        "\n",
        "**Si comparas las variables, ¿todas están en rangos similares? ¿Crees que esto afecte?**\n",
        "Aún con la naturaleza compleja de nuestros datos cualitativos, los cuantitativos se encontraban en rangos similares. Esto fue perfecto para algunas de nuestras comparaciones, por ejemplo entre *año* y *bailabilidad*, porque pudimos encontrar la correlación entre ambos sin cambiar en absoluto los datos.\n",
        "\n",
        "**¿Puedes encontrar grupos qué se parezcan? ¿Qué grupos son éstos?**\n",
        "Los grupos de datos que más se parecen son *bailabilidad* y *energía*. Esto se debe a que las dos variables se miden con un índice que va del 0 al 1, y permiten una comparación más comprensiva, lo cual hace que su interpretación sea más sencilla de realizar.\n"
      ],
      "metadata": {
        "id": "Aw4AXMNZRSYW"
      }
    }
  ]
}