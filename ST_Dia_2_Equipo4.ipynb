{
  "nbformat": 4,
  "nbformat_minor": 0,
  "metadata": {
    "colab": {
      "name": "ST_Dia_2_Equipo4.ipynb",
      "provenance": [],
      "collapsed_sections": []
    },
    "kernelspec": {
      "name": "python3",
      "display_name": "Python 3"
    },
    "language_info": {
      "name": "python"
    }
  },
  "cells": [
    {
      "cell_type": "markdown",
      "source": [
        "**Pandas**\n"
      ],
      "metadata": {
        "id": "7FQeoJEOqlXc"
      }
    },
    {
      "cell_type": "markdown",
      "source": [
        "**1. IMPORTA PANDAS**"
      ],
      "metadata": {
        "id": "vt2pZUUHM3tC"
      }
    },
    {
      "cell_type": "code",
      "source": [
        "import pandas as pd"
      ],
      "metadata": {
        "id": "ZWY7Mxr7qw4g"
      },
      "execution_count": null,
      "outputs": []
    },
    {
      "cell_type": "markdown",
      "source": [
        "**2. Cargar la base de datos que se trabajará**"
      ],
      "metadata": {
        "id": "duvGYa_rrR_M"
      }
    },
    {
      "cell_type": "code",
      "source": [
        "tabla = pd.read_csv(\"songs_normalize.csv\") # campos: artist, song, duration_ms, explicit, year, popularity, danceability, energy, key, loudness, mode, speechiness,acousticness, instrumentaliness, liveness, valence, tempo, genre"
      ],
      "metadata": {
        "id": "CkqPB8zXrs7Q"
      },
      "execution_count": null,
      "outputs": []
    },
    {
      "cell_type": "markdown",
      "source": [
        "**3. Observa las primeras líneas usando la función head**"
      ],
      "metadata": {
        "id": "cxork2cVNUzY"
      }
    },
    {
      "cell_type": "code",
      "source": [
        "print(tabla.head(10))"
      ],
      "metadata": {
        "id": "Z_EYfbJp-iFa",
        "colab": {
          "base_uri": "https://localhost:8080/"
        },
        "outputId": "bd920c96-c6f1-435a-d55f-5f2beb7f69e6"
      },
      "execution_count": null,
      "outputs": [
        {
          "output_type": "stream",
          "name": "stdout",
          "text": [
            "            artist                    song  duration_ms  explicit  year  \\\n",
            "0   Britney Spears  Oops!...I Did It Again       211160     False  2000   \n",
            "1        blink-182    All The Small Things       167066     False  1999   \n",
            "2       Faith Hill                 Breathe       250546     False  1999   \n",
            "3         Bon Jovi            It's My Life       224493     False  2000   \n",
            "4           *NSYNC             Bye Bye Bye       200560     False  2000   \n",
            "5            Sisqo              Thong Song       253733      True  1999   \n",
            "6           Eminem     The Real Slim Shady       284200      True  2000   \n",
            "7  Robbie Williams                 Rock DJ       258560     False  2000   \n",
            "8  Destiny's Child             Say My Name       271333     False  1999   \n",
            "9            Modjo  Lady - Hear Me Tonight       307153     False  2001   \n",
            "\n",
            "   popularity  danceability  energy  key  loudness  mode  speechiness  \\\n",
            "0          77         0.751   0.834    1    -5.444     0       0.0437   \n",
            "1          79         0.434   0.897    0    -4.918     1       0.0488   \n",
            "2          66         0.529   0.496    7    -9.007     1       0.0290   \n",
            "3          78         0.551   0.913    0    -4.063     0       0.0466   \n",
            "4          65         0.614   0.928    8    -4.806     0       0.0516   \n",
            "5          69         0.706   0.888    2    -6.959     1       0.0654   \n",
            "6          86         0.949   0.661    5    -4.244     0       0.0572   \n",
            "7          68         0.708   0.772    7    -4.264     1       0.0322   \n",
            "8          75         0.713   0.678    5    -3.525     0       0.1020   \n",
            "9          77         0.720   0.808    6    -5.627     1       0.0379   \n",
            "\n",
            "   acousticness  instrumentalness  liveness  valence    tempo  \\\n",
            "0       0.30000          0.000018    0.3550    0.894   95.053   \n",
            "1       0.01030          0.000000    0.6120    0.684  148.726   \n",
            "2       0.17300          0.000000    0.2510    0.278  136.859   \n",
            "3       0.02630          0.000013    0.3470    0.544  119.992   \n",
            "4       0.04080          0.001040    0.0845    0.879  172.656   \n",
            "5       0.11900          0.000096    0.0700    0.714  121.549   \n",
            "6       0.03020          0.000000    0.0454    0.760  104.504   \n",
            "7       0.02670          0.000000    0.4670    0.861  103.035   \n",
            "8       0.27300          0.000000    0.1490    0.734  138.009   \n",
            "9       0.00793          0.029300    0.0634    0.869  126.041   \n",
            "\n",
            "               genre  \n",
            "0                pop  \n",
            "1          rock, pop  \n",
            "2       pop, country  \n",
            "3        rock, metal  \n",
            "4                pop  \n",
            "5  hip hop, pop, R&B  \n",
            "6            hip hop  \n",
            "7          pop, rock  \n",
            "8           pop, R&B  \n",
            "9   Dance/Electronic  \n"
          ]
        }
      ]
    },
    {
      "cell_type": "markdown",
      "source": [
        "**Extracción de información por columna**\n",
        "*   Artist\n",
        "*   Song\n",
        "*   Year\n",
        "*   Popularity\n",
        "*   Genre"
      ],
      "metadata": {
        "id": "0GGO8wcStAnp"
      }
    },
    {
      "cell_type": "code",
      "source": [
        "artist = tabla['artist']\n",
        "song = tabla['song']\n",
        "year = tabla['year']\n",
        "popularity = tabla['popularity']\n",
        "genre = tabla['genre']\n",
        "\n",
        "tabla2 = {\n",
        "    \"artist\":artist,\n",
        "    \"song\":song,\n",
        "    \"year\":year,\n",
        "    \"popularity\":popularity,\n",
        "    \"genre\":genre\n",
        "}\n",
        "tabla2=pd.DataFrame(tabla2)\n",
        "tabla2"
      ],
      "metadata": {
        "id": "DV4RVBGCs20d",
        "colab": {
          "base_uri": "https://localhost:8080/",
          "height": 424
        },
        "outputId": "e46a0e67-5eec-4697-cf14-72cdca3a6fd9"
      },
      "execution_count": null,
      "outputs": [
        {
          "output_type": "execute_result",
          "data": {
            "text/plain": [
              "              artist                                    song  year  \\\n",
              "0     Britney Spears                  Oops!...I Did It Again  2000   \n",
              "1          blink-182                    All The Small Things  1999   \n",
              "2         Faith Hill                                 Breathe  1999   \n",
              "3           Bon Jovi                            It's My Life  2000   \n",
              "4             *NSYNC                             Bye Bye Bye  2000   \n",
              "...              ...                                     ...   ...   \n",
              "1995  Jonas Brothers                                  Sucker  2019   \n",
              "1996    Taylor Swift                            Cruel Summer  2019   \n",
              "1997    Blanco Brown                              The Git Up  2019   \n",
              "1998       Sam Smith  Dancing With A Stranger (with Normani)  2019   \n",
              "1999     Post Malone                                 Circles  2019   \n",
              "\n",
              "      popularity             genre  \n",
              "0             77               pop  \n",
              "1             79         rock, pop  \n",
              "2             66      pop, country  \n",
              "3             78       rock, metal  \n",
              "4             65               pop  \n",
              "...          ...               ...  \n",
              "1995          79               pop  \n",
              "1996          78               pop  \n",
              "1997          69  hip hop, country  \n",
              "1998          75               pop  \n",
              "1999          85           hip hop  \n",
              "\n",
              "[2000 rows x 5 columns]"
            ],
            "text/html": [
              "\n",
              "  <div id=\"df-0dfaa83f-e7c6-4448-a185-409997dcedf6\">\n",
              "    <div class=\"colab-df-container\">\n",
              "      <div>\n",
              "<style scoped>\n",
              "    .dataframe tbody tr th:only-of-type {\n",
              "        vertical-align: middle;\n",
              "    }\n",
              "\n",
              "    .dataframe tbody tr th {\n",
              "        vertical-align: top;\n",
              "    }\n",
              "\n",
              "    .dataframe thead th {\n",
              "        text-align: right;\n",
              "    }\n",
              "</style>\n",
              "<table border=\"1\" class=\"dataframe\">\n",
              "  <thead>\n",
              "    <tr style=\"text-align: right;\">\n",
              "      <th></th>\n",
              "      <th>artist</th>\n",
              "      <th>song</th>\n",
              "      <th>year</th>\n",
              "      <th>popularity</th>\n",
              "      <th>genre</th>\n",
              "    </tr>\n",
              "  </thead>\n",
              "  <tbody>\n",
              "    <tr>\n",
              "      <th>0</th>\n",
              "      <td>Britney Spears</td>\n",
              "      <td>Oops!...I Did It Again</td>\n",
              "      <td>2000</td>\n",
              "      <td>77</td>\n",
              "      <td>pop</td>\n",
              "    </tr>\n",
              "    <tr>\n",
              "      <th>1</th>\n",
              "      <td>blink-182</td>\n",
              "      <td>All The Small Things</td>\n",
              "      <td>1999</td>\n",
              "      <td>79</td>\n",
              "      <td>rock, pop</td>\n",
              "    </tr>\n",
              "    <tr>\n",
              "      <th>2</th>\n",
              "      <td>Faith Hill</td>\n",
              "      <td>Breathe</td>\n",
              "      <td>1999</td>\n",
              "      <td>66</td>\n",
              "      <td>pop, country</td>\n",
              "    </tr>\n",
              "    <tr>\n",
              "      <th>3</th>\n",
              "      <td>Bon Jovi</td>\n",
              "      <td>It's My Life</td>\n",
              "      <td>2000</td>\n",
              "      <td>78</td>\n",
              "      <td>rock, metal</td>\n",
              "    </tr>\n",
              "    <tr>\n",
              "      <th>4</th>\n",
              "      <td>*NSYNC</td>\n",
              "      <td>Bye Bye Bye</td>\n",
              "      <td>2000</td>\n",
              "      <td>65</td>\n",
              "      <td>pop</td>\n",
              "    </tr>\n",
              "    <tr>\n",
              "      <th>...</th>\n",
              "      <td>...</td>\n",
              "      <td>...</td>\n",
              "      <td>...</td>\n",
              "      <td>...</td>\n",
              "      <td>...</td>\n",
              "    </tr>\n",
              "    <tr>\n",
              "      <th>1995</th>\n",
              "      <td>Jonas Brothers</td>\n",
              "      <td>Sucker</td>\n",
              "      <td>2019</td>\n",
              "      <td>79</td>\n",
              "      <td>pop</td>\n",
              "    </tr>\n",
              "    <tr>\n",
              "      <th>1996</th>\n",
              "      <td>Taylor Swift</td>\n",
              "      <td>Cruel Summer</td>\n",
              "      <td>2019</td>\n",
              "      <td>78</td>\n",
              "      <td>pop</td>\n",
              "    </tr>\n",
              "    <tr>\n",
              "      <th>1997</th>\n",
              "      <td>Blanco Brown</td>\n",
              "      <td>The Git Up</td>\n",
              "      <td>2019</td>\n",
              "      <td>69</td>\n",
              "      <td>hip hop, country</td>\n",
              "    </tr>\n",
              "    <tr>\n",
              "      <th>1998</th>\n",
              "      <td>Sam Smith</td>\n",
              "      <td>Dancing With A Stranger (with Normani)</td>\n",
              "      <td>2019</td>\n",
              "      <td>75</td>\n",
              "      <td>pop</td>\n",
              "    </tr>\n",
              "    <tr>\n",
              "      <th>1999</th>\n",
              "      <td>Post Malone</td>\n",
              "      <td>Circles</td>\n",
              "      <td>2019</td>\n",
              "      <td>85</td>\n",
              "      <td>hip hop</td>\n",
              "    </tr>\n",
              "  </tbody>\n",
              "</table>\n",
              "<p>2000 rows × 5 columns</p>\n",
              "</div>\n",
              "      <button class=\"colab-df-convert\" onclick=\"convertToInteractive('df-0dfaa83f-e7c6-4448-a185-409997dcedf6')\"\n",
              "              title=\"Convert this dataframe to an interactive table.\"\n",
              "              style=\"display:none;\">\n",
              "        \n",
              "  <svg xmlns=\"http://www.w3.org/2000/svg\" height=\"24px\"viewBox=\"0 0 24 24\"\n",
              "       width=\"24px\">\n",
              "    <path d=\"M0 0h24v24H0V0z\" fill=\"none\"/>\n",
              "    <path d=\"M18.56 5.44l.94 2.06.94-2.06 2.06-.94-2.06-.94-.94-2.06-.94 2.06-2.06.94zm-11 1L8.5 8.5l.94-2.06 2.06-.94-2.06-.94L8.5 2.5l-.94 2.06-2.06.94zm10 10l.94 2.06.94-2.06 2.06-.94-2.06-.94-.94-2.06-.94 2.06-2.06.94z\"/><path d=\"M17.41 7.96l-1.37-1.37c-.4-.4-.92-.59-1.43-.59-.52 0-1.04.2-1.43.59L10.3 9.45l-7.72 7.72c-.78.78-.78 2.05 0 2.83L4 21.41c.39.39.9.59 1.41.59.51 0 1.02-.2 1.41-.59l7.78-7.78 2.81-2.81c.8-.78.8-2.07 0-2.86zM5.41 20L4 18.59l7.72-7.72 1.47 1.35L5.41 20z\"/>\n",
              "  </svg>\n",
              "      </button>\n",
              "      \n",
              "  <style>\n",
              "    .colab-df-container {\n",
              "      display:flex;\n",
              "      flex-wrap:wrap;\n",
              "      gap: 12px;\n",
              "    }\n",
              "\n",
              "    .colab-df-convert {\n",
              "      background-color: #E8F0FE;\n",
              "      border: none;\n",
              "      border-radius: 50%;\n",
              "      cursor: pointer;\n",
              "      display: none;\n",
              "      fill: #1967D2;\n",
              "      height: 32px;\n",
              "      padding: 0 0 0 0;\n",
              "      width: 32px;\n",
              "    }\n",
              "\n",
              "    .colab-df-convert:hover {\n",
              "      background-color: #E2EBFA;\n",
              "      box-shadow: 0px 1px 2px rgba(60, 64, 67, 0.3), 0px 1px 3px 1px rgba(60, 64, 67, 0.15);\n",
              "      fill: #174EA6;\n",
              "    }\n",
              "\n",
              "    [theme=dark] .colab-df-convert {\n",
              "      background-color: #3B4455;\n",
              "      fill: #D2E3FC;\n",
              "    }\n",
              "\n",
              "    [theme=dark] .colab-df-convert:hover {\n",
              "      background-color: #434B5C;\n",
              "      box-shadow: 0px 1px 3px 1px rgba(0, 0, 0, 0.15);\n",
              "      filter: drop-shadow(0px 1px 2px rgba(0, 0, 0, 0.3));\n",
              "      fill: #FFFFFF;\n",
              "    }\n",
              "  </style>\n",
              "\n",
              "      <script>\n",
              "        const buttonEl =\n",
              "          document.querySelector('#df-0dfaa83f-e7c6-4448-a185-409997dcedf6 button.colab-df-convert');\n",
              "        buttonEl.style.display =\n",
              "          google.colab.kernel.accessAllowed ? 'block' : 'none';\n",
              "\n",
              "        async function convertToInteractive(key) {\n",
              "          const element = document.querySelector('#df-0dfaa83f-e7c6-4448-a185-409997dcedf6');\n",
              "          const dataTable =\n",
              "            await google.colab.kernel.invokeFunction('convertToInteractive',\n",
              "                                                     [key], {});\n",
              "          if (!dataTable) return;\n",
              "\n",
              "          const docLinkHtml = 'Like what you see? Visit the ' +\n",
              "            '<a target=\"_blank\" href=https://colab.research.google.com/notebooks/data_table.ipynb>data table notebook</a>'\n",
              "            + ' to learn more about interactive tables.';\n",
              "          element.innerHTML = '';\n",
              "          dataTable['output_type'] = 'display_data';\n",
              "          await google.colab.output.renderOutput(dataTable, element);\n",
              "          const docLink = document.createElement('div');\n",
              "          docLink.innerHTML = docLinkHtml;\n",
              "          element.appendChild(docLink);\n",
              "        }\n",
              "      </script>\n",
              "    </div>\n",
              "  </div>\n",
              "  "
            ]
          },
          "metadata": {},
          "execution_count": 39
        }
      ]
    },
    {
      "cell_type": "markdown",
      "source": [
        "**4. Verifica la cantidad de datos que tienes, las variables que contiene el vector de datos e identifica el tipo de variables**"
      ],
      "metadata": {
        "id": "jdgi06hDN1Ln"
      }
    },
    {
      "cell_type": "code",
      "source": [
        "tabla.count()"
      ],
      "metadata": {
        "id": "SbbMRCt3Iq4k",
        "colab": {
          "base_uri": "https://localhost:8080/"
        },
        "outputId": "d3d772d5-a374-4dc6-ea7f-8b8b14053b80"
      },
      "execution_count": null,
      "outputs": [
        {
          "output_type": "execute_result",
          "data": {
            "text/plain": [
              "artist              2000\n",
              "song                2000\n",
              "duration_ms         2000\n",
              "explicit            2000\n",
              "year                2000\n",
              "popularity          2000\n",
              "danceability        2000\n",
              "energy              2000\n",
              "key                 2000\n",
              "loudness            2000\n",
              "mode                2000\n",
              "speechiness         2000\n",
              "acousticness        2000\n",
              "instrumentalness    2000\n",
              "liveness            2000\n",
              "valence             2000\n",
              "tempo               2000\n",
              "genre               2000\n",
              "dtype: int64"
            ]
          },
          "metadata": {},
          "execution_count": 40
        }
      ]
    },
    {
      "cell_type": "code",
      "source": [
        "from pandas.core.arrays.sparse import dtype\n",
        "print(tabla2['artist'].dtypes)\n",
        "print(tabla2['song'].dtypes)\n",
        "print(tabla2['year'].dtypes)\n",
        "print(tabla2['popularity'].dtypes)\n",
        "print(tabla2['genre'].dtypes)"
      ],
      "metadata": {
        "id": "WDUWiRTNC99h",
        "colab": {
          "base_uri": "https://localhost:8080/"
        },
        "outputId": "c444c114-150b-42a5-a101-c0b3f632d64c"
      },
      "execution_count": null,
      "outputs": [
        {
          "output_type": "stream",
          "name": "stdout",
          "text": [
            "object\n",
            "object\n",
            "int64\n",
            "int64\n",
            "object\n"
          ]
        }
      ]
    },
    {
      "cell_type": "code",
      "source": [
        "tabla_group = tabla.groupby(by = [\"year\",\"artist\",\"song\",\"genre\",\"popularity\"]).mean()\n",
        "print(tabla_group)"
      ],
      "metadata": {
        "id": "Q_7Uwd24_k6f",
        "colab": {
          "base_uri": "https://localhost:8080/"
        },
        "outputId": "d5480a39-8b6b-499b-c6e1-1bb5c32e2a89"
      },
      "execution_count": null,
      "outputs": [
        {
          "output_type": "stream",
          "name": "stdout",
          "text": [
            "                                                                                                duration_ms  \\\n",
            "year artist          song                                genre                      popularity                \n",
            "1998 Missy Elliott   Hot Boyz                            hip hop, pop, R&B          49             215466.0   \n",
            "1999 Anastacia       I'm Outta Love - Radio Edit         pop                        64             245400.0   \n",
            "                     Sick and Tired                      pop                        56             212266.0   \n",
            "     Backstreet Boys Show Me the Meaning of Being Lonely pop                        68             234960.0   \n",
            "     Britney Spears  Born to Make You Happy              pop                        58             243533.0   \n",
            "...                                                                                                     ...   \n",
            "2019 iann dior       emotions                            hip hop, pop               72             131213.0   \n",
            "                     gone girl                           hip hop, pop               69             136568.0   \n",
            "2020 NSG             Options                             World/Traditional, hip hop 57             240081.0   \n",
            "     Will Smith      Switch                              hip hop, pop               34             197666.0   \n",
            "     t.A.T.u.        All The Things She Said             pop                        39             214440.0   \n",
            "\n",
            "                                                                                                explicit  \\\n",
            "year artist          song                                genre                      popularity             \n",
            "1998 Missy Elliott   Hot Boyz                            hip hop, pop, R&B          49               1.0   \n",
            "1999 Anastacia       I'm Outta Love - Radio Edit         pop                        64               0.0   \n",
            "                     Sick and Tired                      pop                        56               0.0   \n",
            "     Backstreet Boys Show Me the Meaning of Being Lonely pop                        68               0.0   \n",
            "     Britney Spears  Born to Make You Happy              pop                        58               0.0   \n",
            "...                                                                                                  ...   \n",
            "2019 iann dior       emotions                            hip hop, pop               72               0.0   \n",
            "                     gone girl                           hip hop, pop               69               1.0   \n",
            "2020 NSG             Options                             World/Traditional, hip hop 57               1.0   \n",
            "     Will Smith      Switch                              hip hop, pop               34               0.0   \n",
            "     t.A.T.u.        All The Things She Said             pop                        39               1.0   \n",
            "\n",
            "                                                                                                danceability  \\\n",
            "year artist          song                                genre                      popularity                 \n",
            "1998 Missy Elliott   Hot Boyz                            hip hop, pop, R&B          49                 0.727   \n",
            "1999 Anastacia       I'm Outta Love - Radio Edit         pop                        64                 0.761   \n",
            "                     Sick and Tired                      pop                        56                 0.598   \n",
            "     Backstreet Boys Show Me the Meaning of Being Lonely pop                        68                 0.630   \n",
            "     Britney Spears  Born to Make You Happy              pop                        58                 0.633   \n",
            "...                                                                                                      ...   \n",
            "2019 iann dior       emotions                            hip hop, pop               72                 0.630   \n",
            "                     gone girl                           hip hop, pop               69                 0.677   \n",
            "2020 NSG             Options                             World/Traditional, hip hop 57                 0.836   \n",
            "     Will Smith      Switch                              hip hop, pop               34                 0.873   \n",
            "     t.A.T.u.        All The Things She Said             pop                        39                 0.527   \n",
            "\n",
            "                                                                                                energy  \\\n",
            "year artist          song                                genre                      popularity           \n",
            "1998 Missy Elliott   Hot Boyz                            hip hop, pop, R&B          49           0.445   \n",
            "1999 Anastacia       I'm Outta Love - Radio Edit         pop                        64           0.716   \n",
            "                     Sick and Tired                      pop                        56           0.868   \n",
            "     Backstreet Boys Show Me the Meaning of Being Lonely pop                        68           0.625   \n",
            "     Britney Spears  Born to Make You Happy              pop                        58           0.922   \n",
            "...                                                                                                ...   \n",
            "2019 iann dior       emotions                            hip hop, pop               72           0.630   \n",
            "                     gone girl                           hip hop, pop               69           0.714   \n",
            "2020 NSG             Options                             World/Traditional, hip hop 57           0.621   \n",
            "     Will Smith      Switch                              hip hop, pop               34           0.900   \n",
            "     t.A.T.u.        All The Things She Said             pop                        39           0.834   \n",
            "\n",
            "                                                                                                 key  \\\n",
            "year artist          song                                genre                      popularity         \n",
            "1998 Missy Elliott   Hot Boyz                            hip hop, pop, R&B          49           1.0   \n",
            "1999 Anastacia       I'm Outta Love - Radio Edit         pop                        64          10.0   \n",
            "                     Sick and Tired                      pop                        56           0.0   \n",
            "     Backstreet Boys Show Me the Meaning of Being Lonely pop                        68           6.0   \n",
            "     Britney Spears  Born to Make You Happy              pop                        58          11.0   \n",
            "...                                                                                              ...   \n",
            "2019 iann dior       emotions                            hip hop, pop               72           9.0   \n",
            "                     gone girl                           hip hop, pop               69          11.0   \n",
            "2020 NSG             Options                             World/Traditional, hip hop 57           1.0   \n",
            "     Will Smith      Switch                              hip hop, pop               34           5.0   \n",
            "     t.A.T.u.        All The Things She Said             pop                        39           5.0   \n",
            "\n",
            "                                                                                                loudness  \\\n",
            "year artist          song                                genre                      popularity             \n",
            "1998 Missy Elliott   Hot Boyz                            hip hop, pop, R&B          49           -11.241   \n",
            "1999 Anastacia       I'm Outta Love - Radio Edit         pop                        64            -5.800   \n",
            "                     Sick and Tired                      pop                        56            -4.552   \n",
            "     Backstreet Boys Show Me the Meaning of Being Lonely pop                        68            -5.088   \n",
            "     Britney Spears  Born to Make You Happy              pop                        58            -4.842   \n",
            "...                                                                                                  ...   \n",
            "2019 iann dior       emotions                            hip hop, pop               72            -6.211   \n",
            "                     gone girl                           hip hop, pop               69            -5.637   \n",
            "2020 NSG             Options                             World/Traditional, hip hop 57            -4.684   \n",
            "     Will Smith      Switch                              hip hop, pop               34            -4.325   \n",
            "     t.A.T.u.        All The Things She Said             pop                        39            -5.767   \n",
            "\n",
            "                                                                                                mode  \\\n",
            "year artist          song                                genre                      popularity         \n",
            "1998 Missy Elliott   Hot Boyz                            hip hop, pop, R&B          49           1.0   \n",
            "1999 Anastacia       I'm Outta Love - Radio Edit         pop                        64           0.0   \n",
            "                     Sick and Tired                      pop                        56           1.0   \n",
            "     Backstreet Boys Show Me the Meaning of Being Lonely pop                        68           0.0   \n",
            "     Britney Spears  Born to Make You Happy              pop                        58           0.0   \n",
            "...                                                                                              ...   \n",
            "2019 iann dior       emotions                            hip hop, pop               72           1.0   \n",
            "                     gone girl                           hip hop, pop               69           1.0   \n",
            "2020 NSG             Options                             World/Traditional, hip hop 57           0.0   \n",
            "     Will Smith      Switch                              hip hop, pop               34           0.0   \n",
            "     t.A.T.u.        All The Things She Said             pop                        39           0.0   \n",
            "\n",
            "                                                                                                speechiness  \\\n",
            "year artist          song                                genre                      popularity                \n",
            "1998 Missy Elliott   Hot Boyz                            hip hop, pop, R&B          49               0.2910   \n",
            "1999 Anastacia       I'm Outta Love - Radio Edit         pop                        64               0.0560   \n",
            "                     Sick and Tired                      pop                        56               0.0373   \n",
            "     Backstreet Boys Show Me the Meaning of Being Lonely pop                        68               0.0252   \n",
            "     Britney Spears  Born to Make You Happy              pop                        58               0.0454   \n",
            "...                                                                                                     ...   \n",
            "2019 iann dior       emotions                            hip hop, pop               72               0.0395   \n",
            "                     gone girl                           hip hop, pop               69               0.0287   \n",
            "2020 NSG             Options                             World/Traditional, hip hop 57               0.0894   \n",
            "     Will Smith      Switch                              hip hop, pop               34               0.1800   \n",
            "     t.A.T.u.        All The Things She Said             pop                        39               0.0474   \n",
            "\n",
            "                                                                                                acousticness  \\\n",
            "year artist          song                                genre                      popularity                 \n",
            "1998 Missy Elliott   Hot Boyz                            hip hop, pop, R&B          49               0.33900   \n",
            "1999 Anastacia       I'm Outta Love - Radio Edit         pop                        64               0.39600   \n",
            "                     Sick and Tired                      pop                        56               0.00908   \n",
            "     Backstreet Boys Show Me the Meaning of Being Lonely pop                        68               0.23100   \n",
            "     Britney Spears  Born to Make You Happy              pop                        58               0.11600   \n",
            "...                                                                                                      ...   \n",
            "2019 iann dior       emotions                            hip hop, pop               72               0.01310   \n",
            "                     gone girl                           hip hop, pop               69               0.16200   \n",
            "2020 NSG             Options                             World/Traditional, hip hop 57               0.38900   \n",
            "     Will Smith      Switch                              hip hop, pop               34               0.01070   \n",
            "     t.A.T.u.        All The Things She Said             pop                        39               0.04110   \n",
            "\n",
            "                                                                                                instrumentalness  \\\n",
            "year artist          song                                genre                      popularity                     \n",
            "1998 Missy Elliott   Hot Boyz                            hip hop, pop, R&B          49                  0.000000   \n",
            "1999 Anastacia       I'm Outta Love - Radio Edit         pop                        64                  0.000000   \n",
            "                     Sick and Tired                      pop                        56                  0.000000   \n",
            "     Backstreet Boys Show Me the Meaning of Being Lonely pop                        68                  0.000000   \n",
            "     Britney Spears  Born to Make You Happy              pop                        58                  0.000465   \n",
            "...                                                                                                          ...   \n",
            "2019 iann dior       emotions                            hip hop, pop               72                  0.000000   \n",
            "                     gone girl                           hip hop, pop               69                  0.000000   \n",
            "2020 NSG             Options                             World/Traditional, hip hop 57                  0.000092   \n",
            "     Will Smith      Switch                              hip hop, pop               34                  0.000502   \n",
            "     t.A.T.u.        All The Things She Said             pop                        39                  0.005990   \n",
            "\n",
            "                                                                                                liveness  \\\n",
            "year artist          song                                genre                      popularity             \n",
            "1998 Missy Elliott   Hot Boyz                            hip hop, pop, R&B          49            0.1800   \n",
            "1999 Anastacia       I'm Outta Love - Radio Edit         pop                        64            0.0771   \n",
            "                     Sick and Tired                      pop                        56            0.2790   \n",
            "     Backstreet Boys Show Me the Meaning of Being Lonely pop                        68            0.0765   \n",
            "     Britney Spears  Born to Make You Happy              pop                        58            0.0710   \n",
            "...                                                                                                  ...   \n",
            "2019 iann dior       emotions                            hip hop, pop               72            0.1420   \n",
            "                     gone girl                           hip hop, pop               69            0.0717   \n",
            "2020 NSG             Options                             World/Traditional, hip hop 57            0.1040   \n",
            "     Will Smith      Switch                              hip hop, pop               34            0.5560   \n",
            "     t.A.T.u.        All The Things She Said             pop                        39            0.1050   \n",
            "\n",
            "                                                                                                valence  \\\n",
            "year artist          song                                genre                      popularity            \n",
            "1998 Missy Elliott   Hot Boyz                            hip hop, pop, R&B          49            0.527   \n",
            "1999 Anastacia       I'm Outta Love - Radio Edit         pop                        64            0.649   \n",
            "                     Sick and Tired                      pop                        56            0.470   \n",
            "     Backstreet Boys Show Me the Meaning of Being Lonely pop                        68            0.683   \n",
            "     Britney Spears  Born to Make You Happy              pop                        58            0.686   \n",
            "...                                                                                                 ...   \n",
            "2019 iann dior       emotions                            hip hop, pop               72            0.163   \n",
            "                     gone girl                           hip hop, pop               69            0.355   \n",
            "2020 NSG             Options                             World/Traditional, hip hop 57            0.762   \n",
            "     Will Smith      Switch                              hip hop, pop               34            0.478   \n",
            "     t.A.T.u.        All The Things She Said             pop                        39            0.381   \n",
            "\n",
            "                                                                                                  tempo  \n",
            "year artist          song                                genre                      popularity           \n",
            "1998 Missy Elliott   Hot Boyz                            hip hop, pop, R&B          49           81.125  \n",
            "1999 Anastacia       I'm Outta Love - Radio Edit         pop                        64          119.410  \n",
            "                     Sick and Tired                      pop                        56           99.848  \n",
            "     Backstreet Boys Show Me the Meaning of Being Lonely pop                        68          167.998  \n",
            "     Britney Spears  Born to Make You Happy              pop                        58           84.110  \n",
            "...                                                                                                 ...  \n",
            "2019 iann dior       emotions                            hip hop, pop               72           80.512  \n",
            "                     gone girl                           hip hop, pop               69           94.956  \n",
            "2020 NSG             Options                             World/Traditional, hip hop 57          101.993  \n",
            "     Will Smith      Switch                              hip hop, pop               34          102.516  \n",
            "     t.A.T.u.        All The Things She Said             pop                        39          179.920  \n",
            "\n",
            "[1941 rows x 13 columns]\n"
          ]
        }
      ]
    },
    {
      "cell_type": "markdown",
      "source": [
        ""
      ],
      "metadata": {
        "id": "qN_f4FdvFF0w"
      }
    },
    {
      "cell_type": "markdown",
      "source": [
        "**5. Analiza las variables para saber qué representa cada una y en qué rangos se encuentran**\n",
        "\n",
        "La variable \"Artist\" representa al artista o grupo musical de cada canción.\n",
        "\n",
        "La variable \"Song\" representa la canción que produjo el artista.\n",
        "\n",
        "La variable \"Year\" representa el año en que se publicó la canción.\n",
        "\n",
        "La variable \"Popularity\" representa en número máximo de popularidad que alcanzó la canción en un periodo de tiempo, siendo 0 el número de mayor popularidad.\n",
        "\n",
        "La variable \"Genre\" representa el género de las canciones."
      ],
      "metadata": {
        "id": "CKWtx1AfJc-O"
      }
    },
    {
      "cell_type": "code",
      "source": [
        "print(\"El rango de los años es:\", year.max()-year.min())\n",
        "print(\"El rango de la popularidad es:\", popularity.max()-popularity.min())"
      ],
      "metadata": {
        "colab": {
          "base_uri": "https://localhost:8080/"
        },
        "id": "Sk1Bl90r1am5",
        "outputId": "6ac0f16c-8c19-4901-92b2-424d6ca7a482"
      },
      "execution_count": null,
      "outputs": [
        {
          "output_type": "stream",
          "name": "stdout",
          "text": [
            "El rango de los años es: 22\n",
            "El rango de la popularidad es: 89\n"
          ]
        }
      ]
    },
    {
      "cell_type": "markdown",
      "source": [
        "**6. Obtén diferentes combinaciones de columnas y datos**"
      ],
      "metadata": {
        "id": "nz9XMpTH8ZOT"
      }
    },
    {
      "cell_type": "code",
      "source": [
        "tabla2['Comparación por género'] = tabla2['artist'] + \" \" + tabla2['song'] + \" \" + tabla2['genre']\n",
        "print(tabla2.head(5))"
      ],
      "metadata": {
        "id": "F_dzFYV48hEB",
        "colab": {
          "base_uri": "https://localhost:8080/"
        },
        "outputId": "e70cd66f-77db-42bc-e20c-8ca2cab95de6"
      },
      "execution_count": null,
      "outputs": [
        {
          "output_type": "stream",
          "name": "stdout",
          "text": [
            "           artist                    song  year  popularity         genre  \\\n",
            "0  Britney Spears  Oops!...I Did It Again  2000          77           pop   \n",
            "1       blink-182    All The Small Things  1999          79     rock, pop   \n",
            "2      Faith Hill                 Breathe  1999          66  pop, country   \n",
            "3        Bon Jovi            It's My Life  2000          78   rock, metal   \n",
            "4          *NSYNC             Bye Bye Bye  2000          65           pop   \n",
            "\n",
            "                      Comparación por género  \n",
            "0  Britney Spears Oops!...I Did It Again pop  \n",
            "1   blink-182 All The Small Things rock, pop  \n",
            "2            Faith Hill Breathe pop, country  \n",
            "3          Bon Jovi It's My Life rock, metal  \n",
            "4                     *NSYNC Bye Bye Bye pop  \n"
          ]
        }
      ]
    },
    {
      "cell_type": "code",
      "source": [
        "tabla2['Comparación por popularidad'] = tabla2['artist'] + \" \" + tabla2['song'] + \" \" + str(tabla2['popularity'])\n",
        "print(tabla2.head(5))"
      ],
      "metadata": {
        "colab": {
          "base_uri": "https://localhost:8080/"
        },
        "id": "UHLdZLmwLKHv",
        "outputId": "2aef5831-ac65-4a62-a359-c348102e9c48"
      },
      "execution_count": null,
      "outputs": [
        {
          "output_type": "stream",
          "name": "stdout",
          "text": [
            "           artist                    song  year  popularity         genre  \\\n",
            "0  Britney Spears  Oops!...I Did It Again  2000          77           pop   \n",
            "1       blink-182    All The Small Things  1999          79     rock, pop   \n",
            "2      Faith Hill                 Breathe  1999          66  pop, country   \n",
            "3        Bon Jovi            It's My Life  2000          78   rock, metal   \n",
            "4          *NSYNC             Bye Bye Bye  2000          65           pop   \n",
            "\n",
            "                      Comparación por género  \\\n",
            "0  Britney Spears Oops!...I Did It Again pop   \n",
            "1   blink-182 All The Small Things rock, pop   \n",
            "2            Faith Hill Breathe pop, country   \n",
            "3          Bon Jovi It's My Life rock, metal   \n",
            "4                     *NSYNC Bye Bye Bye pop   \n",
            "\n",
            "                         Comparación por popularidad  \n",
            "0  Britney Spears Oops!...I Did It Again 0       ...  \n",
            "1  blink-182 All The Small Things 0       77\\n1  ...  \n",
            "2  Faith Hill Breathe 0       77\\n1       79\\n2  ...  \n",
            "3  Bon Jovi It's My Life 0       77\\n1       79\\n...  \n",
            "4  *NSYNC Bye Bye Bye 0       77\\n1       79\\n2  ...  \n"
          ]
        }
      ]
    },
    {
      "cell_type": "code",
      "source": [
        "tabla2['Comparación por año'] = tabla2['artist'] + \" \" + tabla2['song'] + \" \" + str(tabla2['year'])\n",
        "print(tabla2.head(5))"
      ],
      "metadata": {
        "colab": {
          "base_uri": "https://localhost:8080/"
        },
        "id": "SFQLiNXMLMaK",
        "outputId": "8959cc46-f053-440b-ac1e-482d3badcc29"
      },
      "execution_count": null,
      "outputs": [
        {
          "output_type": "stream",
          "name": "stdout",
          "text": [
            "           artist                    song  year  popularity         genre  \\\n",
            "0  Britney Spears  Oops!...I Did It Again  2000          77           pop   \n",
            "1       blink-182    All The Small Things  1999          79     rock, pop   \n",
            "2      Faith Hill                 Breathe  1999          66  pop, country   \n",
            "3        Bon Jovi            It's My Life  2000          78   rock, metal   \n",
            "4          *NSYNC             Bye Bye Bye  2000          65           pop   \n",
            "\n",
            "                      Comparación por género  \\\n",
            "0  Britney Spears Oops!...I Did It Again pop   \n",
            "1   blink-182 All The Small Things rock, pop   \n",
            "2            Faith Hill Breathe pop, country   \n",
            "3          Bon Jovi It's My Life rock, metal   \n",
            "4                     *NSYNC Bye Bye Bye pop   \n",
            "\n",
            "                         Comparación por popularidad  \\\n",
            "0  Britney Spears Oops!...I Did It Again 0       ...   \n",
            "1  blink-182 All The Small Things 0       77\\n1  ...   \n",
            "2  Faith Hill Breathe 0       77\\n1       79\\n2  ...   \n",
            "3  Bon Jovi It's My Life 0       77\\n1       79\\n...   \n",
            "4  *NSYNC Bye Bye Bye 0       77\\n1       79\\n2  ...   \n",
            "\n",
            "                                 Comparación por año  \n",
            "0  Britney Spears Oops!...I Did It Again 0       ...  \n",
            "1  blink-182 All The Small Things 0       2000\\n1...  \n",
            "2  Faith Hill Breathe 0       2000\\n1       1999\\...  \n",
            "3  Bon Jovi It's My Life 0       2000\\n1       19...  \n",
            "4  *NSYNC Bye Bye Bye 0       2000\\n1       1999\\...  \n"
          ]
        }
      ]
    },
    {
      "cell_type": "markdown",
      "source": [
        "**7. Revisa los datos obtenidos por la función describe**"
      ],
      "metadata": {
        "id": "voN7wdRKO9Qq"
      }
    },
    {
      "cell_type": "code",
      "source": [
        "tabla2.dropna(inplace=True)\n",
        "print(tabla2.describe())"
      ],
      "metadata": {
        "id": "qYtL2F2hPhBe",
        "outputId": "cdc48914-0d53-43b1-8af7-7cf7e4e751bc",
        "colab": {
          "base_uri": "https://localhost:8080/"
        }
      },
      "execution_count": null,
      "outputs": [
        {
          "output_type": "stream",
          "name": "stdout",
          "text": [
            "             year   popularity\n",
            "count  2000.00000  2000.000000\n",
            "mean   2009.49400    59.872500\n",
            "std       5.85996    21.335577\n",
            "min    1998.00000     0.000000\n",
            "25%    2004.00000    56.000000\n",
            "50%    2010.00000    65.500000\n",
            "75%    2015.00000    73.000000\n",
            "max    2020.00000    89.000000\n"
          ]
        }
      ]
    },
    {
      "cell_type": "markdown",
      "source": [
        "**8. Basándose en la media, mediana y desviación estándar de cada variable, qué conclusiones puedes entregar de datos**"
      ],
      "metadata": {
        "id": "78bX-91tQOd1"
      }
    },
    {
      "cell_type": "markdown",
      "source": [
        "Debido a la naturaleza de nuestros datos, únicamente podemos obtener estos datos para dos de nuestras 5 variables seleccionadas. El resultado que obtuvimos es el siguiente:"
      ],
      "metadata": {
        "id": "lJPX8ILrQ00z"
      }
    },
    {
      "cell_type": "code",
      "source": [
        "tabla_group.std()"
      ],
      "metadata": {
        "colab": {
          "base_uri": "https://localhost:8080/"
        },
        "id": "uiz4o0NbRG4F",
        "outputId": "a45ae5c9-483d-4ef5-f79b-56068894138d"
      },
      "execution_count": null,
      "outputs": [
        {
          "output_type": "execute_result",
          "data": {
            "text/plain": [
              "duration_ms         39249.796103\n",
              "explicit                0.447463\n",
              "danceability            0.140608\n",
              "energy                  0.152872\n",
              "key                     3.615270\n",
              "loudness                1.938950\n",
              "mode                    0.497277\n",
              "speechiness             0.096148\n",
              "acousticness            0.172584\n",
              "instrumentalness        0.088371\n",
              "liveness                0.140910\n",
              "valence                 0.220845\n",
              "tempo                  26.990475\n",
              "dtype: float64"
            ]
          },
          "metadata": {},
          "execution_count": 50
        }
      ]
    }
  ]
}